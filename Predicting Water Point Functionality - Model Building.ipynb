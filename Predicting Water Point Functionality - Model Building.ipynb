{
 "cells": [
  {
   "cell_type": "markdown",
   "metadata": {},
   "source": [
    "# Predicting Water Point Functionalit - Model Building\n",
    "\n",
    "Introductory Text"
   ]
  },
  {
   "cell_type": "markdown",
   "metadata": {},
   "source": [
    "## Package Loading"
   ]
  },
  {
   "cell_type": "code",
   "execution_count": 1,
   "metadata": {},
   "outputs": [
    {
     "name": "stderr",
     "output_type": "stream",
     "text": [
      "Warning message:\n",
      "\"package 'randomForest' was built under R version 3.3.3\"randomForest 4.6-12\n",
      "Type rfNews() to see new features/changes/bug fixes.\n",
      "Warning message:\n",
      "\"package 'gbm' was built under R version 3.3.3\"Loading required package: survival\n",
      "Warning message:\n",
      "\"package 'survival' was built under R version 3.3.3\"Loading required package: lattice\n",
      "Loading required package: splines\n",
      "Loading required package: parallel\n",
      "Loaded gbm 2.1.1\n",
      "Warning message:\n",
      "\"package 'e1071' was built under R version 3.3.3\""
     ]
    }
   ],
   "source": [
    "library(randomForest) #Random Forest\n",
    "library(gbm) # Gradient Boosting\n",
    "library(e1071)  # Support Vector Machines\n",
    "library(IRdisplay)"
   ]
  },
  {
   "cell_type": "markdown",
   "metadata": {},
   "source": [
    "## Data Loading & Partitioning"
   ]
  },
  {
   "cell_type": "markdown",
   "metadata": {},
   "source": [
    "**Load the challenge's train and test sets data, after completing cleaning and feature engineering using MySQL**"
   ]
  },
  {
   "cell_type": "code",
   "execution_count": 2,
   "metadata": {
    "collapsed": true
   },
   "outputs": [],
   "source": [
    "full_train = read.csv(\"prepared_trainData.csv\")\n",
    "challenge_test = read.csv(\"prepared_testData.csv\")"
   ]
  },
  {
   "cell_type": "code",
   "execution_count": 3,
   "metadata": {},
   "outputs": [
    {
     "data": {
      "text/html": [
       "<table>\n",
       "<thead><tr><th scope=col>id</th><th scope=col>status_group</th><th scope=col>amount_tsh</th><th scope=col>gps_height</th><th scope=col>longitude</th><th scope=col>latitude</th><th scope=col>basin</th><th scope=col>population</th><th scope=col>public_meeting</th><th scope=col>scheme_management</th><th scope=col>...</th><th scope=col>funder_installer_nonfunctional</th><th scope=col>region_code_functional</th><th scope=col>region_code_needsrepair</th><th scope=col>region_code_nonfunctional</th><th scope=col>lga_functional</th><th scope=col>lga_needsrepair</th><th scope=col>lga_nonfunctional</th><th scope=col>ward_functional</th><th scope=col>ward_needsrepair</th><th scope=col>ward_nonfunctional</th></tr></thead>\n",
       "<tbody>\n",
       "\t<tr><td> 1817         </td><td>functional    </td><td>50            </td><td>1294          </td><td>36.78452      </td><td>-3.371551     </td><td>Pangani       </td><td>1500          </td><td>TRUE          </td><td>VWC           </td><td>...           </td><td>0.1667000     </td><td>0.6541        </td><td>0.0575        </td><td>0.2884        </td><td>0.6511        </td><td>0.0317        </td><td>0.3171        </td><td>0.6000        </td><td>0.1556        </td><td>0.2444        </td></tr>\n",
       "\t<tr><td>53558         </td><td>functional    </td><td> 0            </td><td>1344          </td><td>36.76765      </td><td>-3.367851     </td><td>Pangani       </td><td> 130          </td><td>0             </td><td>              </td><td>...           </td><td>0.0400000     </td><td>0.6541        </td><td>0.0575        </td><td>0.2884        </td><td>0.6511        </td><td>0.0317        </td><td>0.3171        </td><td>0.6000        </td><td>0.1556        </td><td>0.2444        </td></tr>\n",
       "\t<tr><td>46897         </td><td>functional    </td><td> 0            </td><td>1315          </td><td>36.78232      </td><td>-3.369370     </td><td>Pangani       </td><td> 400          </td><td>TRUE          </td><td>WUA           </td><td>...           </td><td>0.4346952     </td><td>0.6541        </td><td>0.0575        </td><td>0.2884        </td><td>0.6511        </td><td>0.0317        </td><td>0.3171        </td><td>0.6000        </td><td>0.1556        </td><td>0.2444        </td></tr>\n",
       "\t<tr><td>70666         </td><td>non functional</td><td> 0            </td><td>   0          </td><td>33.44780      </td><td>-3.247513     </td><td>Lake Victoria </td><td>   0          </td><td>TRUE          </td><td>WUG           </td><td>...           </td><td>0.5852000     </td><td>0.5602        </td><td>0.1273        </td><td>0.3125        </td><td>0.6156        </td><td>0.0742        </td><td>0.3103        </td><td>0.4706        </td><td>0.0294        </td><td>0.5000        </td></tr>\n",
       "\t<tr><td>41583         </td><td>functional    </td><td> 0            </td><td> -41          </td><td>39.81291      </td><td>-7.889986     </td><td>Rufiji        </td><td> 100          </td><td>TRUE          </td><td>VWC           </td><td>...           </td><td>0.3342000     </td><td>0.4780        </td><td>0.0195        </td><td>0.5024        </td><td>0.6894        </td><td>0.1212        </td><td>0.1894        </td><td>0.5909        </td><td>0.2273        </td><td>0.1818        </td></tr>\n",
       "\t<tr><td>24593         </td><td>functional    </td><td> 0            </td><td>1703          </td><td>35.56135      </td><td>-3.806879     </td><td>Internal      </td><td> 456          </td><td>0             </td><td>WUG           </td><td>...           </td><td>0.4636000     </td><td>0.6235        </td><td>0.0606        </td><td>0.3159        </td><td>0.6431        </td><td>0.0337        </td><td>0.3232        </td><td>0.8889        </td><td>0.0556        </td><td>0.0556        </td></tr>\n",
       "</tbody>\n",
       "</table>\n"
      ],
      "text/latex": [
       "\\begin{tabular}{r|llllllllllllllllllllllllllllllllllllll}\n",
       " id & status\\_group & amount\\_tsh & gps\\_height & longitude & latitude & basin & population & public\\_meeting & scheme\\_management & ... & funder\\_installer\\_nonfunctional & region\\_code\\_functional & region\\_code\\_needsrepair & region\\_code\\_nonfunctional & lga\\_functional & lga\\_needsrepair & lga\\_nonfunctional & ward\\_functional & ward\\_needsrepair & ward\\_nonfunctional\\\\\n",
       "\\hline\n",
       "\t  1817          & functional     & 50             & 1294           & 36.78452       & -3.371551      & Pangani        & 1500           & TRUE           & VWC            & ...            & 0.1667000      & 0.6541         & 0.0575         & 0.2884         & 0.6511         & 0.0317         & 0.3171         & 0.6000         & 0.1556         & 0.2444        \\\\\n",
       "\t 53558          & functional     &  0             & 1344           & 36.76765       & -3.367851      & Pangani        &  130           & 0              &                & ...            & 0.0400000      & 0.6541         & 0.0575         & 0.2884         & 0.6511         & 0.0317         & 0.3171         & 0.6000         & 0.1556         & 0.2444        \\\\\n",
       "\t 46897          & functional     &  0             & 1315           & 36.78232       & -3.369370      & Pangani        &  400           & TRUE           & WUA            & ...            & 0.4346952      & 0.6541         & 0.0575         & 0.2884         & 0.6511         & 0.0317         & 0.3171         & 0.6000         & 0.1556         & 0.2444        \\\\\n",
       "\t 70666          & non functional &  0             &    0           & 33.44780       & -3.247513      & Lake Victoria  &    0           & TRUE           & WUG            & ...            & 0.5852000      & 0.5602         & 0.1273         & 0.3125         & 0.6156         & 0.0742         & 0.3103         & 0.4706         & 0.0294         & 0.5000        \\\\\n",
       "\t 41583          & functional     &  0             &  -41           & 39.81291       & -7.889986      & Rufiji         &  100           & TRUE           & VWC            & ...            & 0.3342000      & 0.4780         & 0.0195         & 0.5024         & 0.6894         & 0.1212         & 0.1894         & 0.5909         & 0.2273         & 0.1818        \\\\\n",
       "\t 24593          & functional     &  0             & 1703           & 35.56135       & -3.806879      & Internal       &  456           & 0              & WUG            & ...            & 0.4636000      & 0.6235         & 0.0606         & 0.3159         & 0.6431         & 0.0337         & 0.3232         & 0.8889         & 0.0556         & 0.0556        \\\\\n",
       "\\end{tabular}\n"
      ],
      "text/markdown": [
       "\n",
       "id | status_group | amount_tsh | gps_height | longitude | latitude | basin | population | public_meeting | scheme_management | ... | funder_installer_nonfunctional | region_code_functional | region_code_needsrepair | region_code_nonfunctional | lga_functional | lga_needsrepair | lga_nonfunctional | ward_functional | ward_needsrepair | ward_nonfunctional | \n",
       "|---|---|---|---|---|---|\n",
       "|  1817          | functional     | 50             | 1294           | 36.78452       | -3.371551      | Pangani        | 1500           | TRUE           | VWC            | ...            | 0.1667000      | 0.6541         | 0.0575         | 0.2884         | 0.6511         | 0.0317         | 0.3171         | 0.6000         | 0.1556         | 0.2444         | \n",
       "| 53558          | functional     |  0             | 1344           | 36.76765       | -3.367851      | Pangani        |  130           | 0              |                | ...            | 0.0400000      | 0.6541         | 0.0575         | 0.2884         | 0.6511         | 0.0317         | 0.3171         | 0.6000         | 0.1556         | 0.2444         | \n",
       "| 46897          | functional     |  0             | 1315           | 36.78232       | -3.369370      | Pangani        |  400           | TRUE           | WUA            | ...            | 0.4346952      | 0.6541         | 0.0575         | 0.2884         | 0.6511         | 0.0317         | 0.3171         | 0.6000         | 0.1556         | 0.2444         | \n",
       "| 70666          | non functional |  0             |    0           | 33.44780       | -3.247513      | Lake Victoria  |    0           | TRUE           | WUG            | ...            | 0.5852000      | 0.5602         | 0.1273         | 0.3125         | 0.6156         | 0.0742         | 0.3103         | 0.4706         | 0.0294         | 0.5000         | \n",
       "| 41583          | functional     |  0             |  -41           | 39.81291       | -7.889986      | Rufiji         |  100           | TRUE           | VWC            | ...            | 0.3342000      | 0.4780         | 0.0195         | 0.5024         | 0.6894         | 0.1212         | 0.1894         | 0.5909         | 0.2273         | 0.1818         | \n",
       "| 24593          | functional     |  0             | 1703           | 35.56135       | -3.806879      | Internal       |  456           | 0              | WUG            | ...            | 0.4636000      | 0.6235         | 0.0606         | 0.3159         | 0.6431         | 0.0337         | 0.3232         | 0.8889         | 0.0556         | 0.0556         | \n",
       "\n",
       "\n"
      ],
      "text/plain": [
       "  id    status_group   amount_tsh gps_height longitude latitude  basin        \n",
       "1  1817 functional     50         1294       36.78452  -3.371551 Pangani      \n",
       "2 53558 functional      0         1344       36.76765  -3.367851 Pangani      \n",
       "3 46897 functional      0         1315       36.78232  -3.369370 Pangani      \n",
       "4 70666 non functional  0            0       33.44780  -3.247513 Lake Victoria\n",
       "5 41583 functional      0          -41       39.81291  -7.889986 Rufiji       \n",
       "6 24593 functional      0         1703       35.56135  -3.806879 Internal     \n",
       "  population public_meeting scheme_management ...\n",
       "1 1500       TRUE           VWC               ...\n",
       "2  130       0                                ...\n",
       "3  400       TRUE           WUA               ...\n",
       "4    0       TRUE           WUG               ...\n",
       "5  100       TRUE           VWC               ...\n",
       "6  456       0              WUG               ...\n",
       "  funder_installer_nonfunctional region_code_functional region_code_needsrepair\n",
       "1 0.1667000                      0.6541                 0.0575                 \n",
       "2 0.0400000                      0.6541                 0.0575                 \n",
       "3 0.4346952                      0.6541                 0.0575                 \n",
       "4 0.5852000                      0.5602                 0.1273                 \n",
       "5 0.3342000                      0.4780                 0.0195                 \n",
       "6 0.4636000                      0.6235                 0.0606                 \n",
       "  region_code_nonfunctional lga_functional lga_needsrepair lga_nonfunctional\n",
       "1 0.2884                    0.6511         0.0317          0.3171           \n",
       "2 0.2884                    0.6511         0.0317          0.3171           \n",
       "3 0.2884                    0.6511         0.0317          0.3171           \n",
       "4 0.3125                    0.6156         0.0742          0.3103           \n",
       "5 0.5024                    0.6894         0.1212          0.1894           \n",
       "6 0.3159                    0.6431         0.0337          0.3232           \n",
       "  ward_functional ward_needsrepair ward_nonfunctional\n",
       "1 0.6000          0.1556           0.2444            \n",
       "2 0.6000          0.1556           0.2444            \n",
       "3 0.6000          0.1556           0.2444            \n",
       "4 0.4706          0.0294           0.5000            \n",
       "5 0.5909          0.2273           0.1818            \n",
       "6 0.8889          0.0556           0.0556            "
      ]
     },
     "metadata": {},
     "output_type": "display_data"
    }
   ],
   "source": [
    "head(full_train)"
   ]
  },
  {
   "cell_type": "code",
   "execution_count": 4,
   "metadata": {},
   "outputs": [
    {
     "data": {
      "text/html": [
       "<table>\n",
       "<thead><tr><th scope=col>id</th><th scope=col>amount_tsh</th><th scope=col>gps_height</th><th scope=col>longitude</th><th scope=col>latitude</th><th scope=col>basin</th><th scope=col>population</th><th scope=col>public_meeting</th><th scope=col>scheme_management</th><th scope=col>permit</th><th scope=col>...</th><th scope=col>funder_installer_nonfunctional</th><th scope=col>region_code_functional</th><th scope=col>region_code_needsrepair</th><th scope=col>region_code_nonfunctional</th><th scope=col>lga_functional</th><th scope=col>lga_needsrepair</th><th scope=col>lga_nonfunctional</th><th scope=col>ward_functional</th><th scope=col>ward_needsrepair</th><th scope=col>ward_nonfunctional</th></tr></thead>\n",
       "<tbody>\n",
       "\t<tr><td>50785                  </td><td>  0                    </td><td>1996                   </td><td>35.29080               </td><td> -4.059696             </td><td>Internal               </td><td>321                    </td><td>TRUE                   </td><td>Parastatal             </td><td>TRUE                   </td><td>...                    </td><td>0.1027                 </td><td>0.6235                 </td><td>0.0606                 </td><td>0.3159                 </td><td>0.6431                 </td><td>0.0337                 </td><td>0.3232                 </td><td>0.6000                 </td><td>0.1600                 </td><td>0.2400                 </td></tr>\n",
       "\t<tr><td>51630                  </td><td>  0                    </td><td>1569                   </td><td>36.65671               </td><td> -3.309214             </td><td>Pangani                </td><td>300                    </td><td>TRUE                   </td><td>VWC                    </td><td>TRUE                   </td><td>...                    </td><td>0.4166                 </td><td>0.6541                 </td><td>0.0575                 </td><td>0.2884                 </td><td>0.6989                 </td><td>0.0383                 </td><td>0.2628                 </td><td>0.5696                 </td><td>0.0886                 </td><td>0.3418                 </td></tr>\n",
       "\t<tr><td>17168                  </td><td>  0                    </td><td>1567                   </td><td>34.76786               </td><td> -5.004344             </td><td>Internal               </td><td>500                    </td><td>TRUE                   </td><td>VWC                    </td><td>                       </td><td>...                    </td><td>0.3342                 </td><td>0.4830                 </td><td>0.0612                 </td><td>0.4558                 </td><td>0.4402                 </td><td>0.0623                 </td><td>0.4975                 </td><td>0.2955                 </td><td>0.0682                 </td><td>0.6364                 </td></tr>\n",
       "\t<tr><td>45559                  </td><td>  0                    </td><td> 267                   </td><td>38.05805               </td><td> -9.418672             </td><td>Ruvuma / Southern Coast</td><td>250                    </td><td>                       </td><td>VWC                    </td><td>TRUE                   </td><td>...                    </td><td>0.9394                 </td><td>0.3489                 </td><td>0.0630                 </td><td>0.5880                 </td><td>0.2532                 </td><td>0.0195                 </td><td>0.7273                 </td><td>0.2000                 </td><td>0.0000                 </td><td>0.8000                 </td></tr>\n",
       "\t<tr><td>49871                  </td><td>500                    </td><td>1260                   </td><td>35.00612               </td><td>-10.950412             </td><td>Ruvuma / Southern Coast</td><td> 60                    </td><td>                       </td><td>Water Board            </td><td>TRUE                   </td><td>...                    </td><td>0.1250                 </td><td>0.5606                 </td><td>0.0621                 </td><td>0.3773                 </td><td>0.5267                 </td><td>0.0760                 </td><td>0.3973                 </td><td>0.7736                 </td><td>0.0189                 </td><td>0.2075                 </td></tr>\n",
       "\t<tr><td>52449                  </td><td>  0                    </td><td>1685                   </td><td>36.68528               </td><td> -3.302420             </td><td>Pangani                </td><td>200                    </td><td>TRUE                   </td><td>VWC                    </td><td>TRUE                   </td><td>...                    </td><td>0.4166                 </td><td>0.6541                 </td><td>0.0575                 </td><td>0.2884                 </td><td>0.6989                 </td><td>0.0383                 </td><td>0.2628                 </td><td>0.8372                 </td><td>0.0116                 </td><td>0.1512                 </td></tr>\n",
       "</tbody>\n",
       "</table>\n"
      ],
      "text/latex": [
       "\\begin{tabular}{r|lllllllllllllllllllllllllllllllllllll}\n",
       " id & amount\\_tsh & gps\\_height & longitude & latitude & basin & population & public\\_meeting & scheme\\_management & permit & ... & funder\\_installer\\_nonfunctional & region\\_code\\_functional & region\\_code\\_needsrepair & region\\_code\\_nonfunctional & lga\\_functional & lga\\_needsrepair & lga\\_nonfunctional & ward\\_functional & ward\\_needsrepair & ward\\_nonfunctional\\\\\n",
       "\\hline\n",
       "\t 50785                   &   0                     & 1996                    & 35.29080                &  -4.059696              & Internal                & 321                     & TRUE                    & Parastatal              & TRUE                    & ...                     & 0.1027                  & 0.6235                  & 0.0606                  & 0.3159                  & 0.6431                  & 0.0337                  & 0.3232                  & 0.6000                  & 0.1600                  & 0.2400                 \\\\\n",
       "\t 51630                   &   0                     & 1569                    & 36.65671                &  -3.309214              & Pangani                 & 300                     & TRUE                    & VWC                     & TRUE                    & ...                     & 0.4166                  & 0.6541                  & 0.0575                  & 0.2884                  & 0.6989                  & 0.0383                  & 0.2628                  & 0.5696                  & 0.0886                  & 0.3418                 \\\\\n",
       "\t 17168                   &   0                     & 1567                    & 34.76786                &  -5.004344              & Internal                & 500                     & TRUE                    & VWC                     &                         & ...                     & 0.3342                  & 0.4830                  & 0.0612                  & 0.4558                  & 0.4402                  & 0.0623                  & 0.4975                  & 0.2955                  & 0.0682                  & 0.6364                 \\\\\n",
       "\t 45559                   &   0                     &  267                    & 38.05805                &  -9.418672              & Ruvuma / Southern Coast & 250                     &                         & VWC                     & TRUE                    & ...                     & 0.9394                  & 0.3489                  & 0.0630                  & 0.5880                  & 0.2532                  & 0.0195                  & 0.7273                  & 0.2000                  & 0.0000                  & 0.8000                 \\\\\n",
       "\t 49871                   & 500                     & 1260                    & 35.00612                & -10.950412              & Ruvuma / Southern Coast &  60                     &                         & Water Board             & TRUE                    & ...                     & 0.1250                  & 0.5606                  & 0.0621                  & 0.3773                  & 0.5267                  & 0.0760                  & 0.3973                  & 0.7736                  & 0.0189                  & 0.2075                 \\\\\n",
       "\t 52449                   &   0                     & 1685                    & 36.68528                &  -3.302420              & Pangani                 & 200                     & TRUE                    & VWC                     & TRUE                    & ...                     & 0.4166                  & 0.6541                  & 0.0575                  & 0.2884                  & 0.6989                  & 0.0383                  & 0.2628                  & 0.8372                  & 0.0116                  & 0.1512                 \\\\\n",
       "\\end{tabular}\n"
      ],
      "text/markdown": [
       "\n",
       "id | amount_tsh | gps_height | longitude | latitude | basin | population | public_meeting | scheme_management | permit | ... | funder_installer_nonfunctional | region_code_functional | region_code_needsrepair | region_code_nonfunctional | lga_functional | lga_needsrepair | lga_nonfunctional | ward_functional | ward_needsrepair | ward_nonfunctional | \n",
       "|---|---|---|---|---|---|\n",
       "| 50785                   |   0                     | 1996                    | 35.29080                |  -4.059696              | Internal                | 321                     | TRUE                    | Parastatal              | TRUE                    | ...                     | 0.1027                  | 0.6235                  | 0.0606                  | 0.3159                  | 0.6431                  | 0.0337                  | 0.3232                  | 0.6000                  | 0.1600                  | 0.2400                  | \n",
       "| 51630                   |   0                     | 1569                    | 36.65671                |  -3.309214              | Pangani                 | 300                     | TRUE                    | VWC                     | TRUE                    | ...                     | 0.4166                  | 0.6541                  | 0.0575                  | 0.2884                  | 0.6989                  | 0.0383                  | 0.2628                  | 0.5696                  | 0.0886                  | 0.3418                  | \n",
       "| 17168                   |   0                     | 1567                    | 34.76786                |  -5.004344              | Internal                | 500                     | TRUE                    | VWC                     |                         | ...                     | 0.3342                  | 0.4830                  | 0.0612                  | 0.4558                  | 0.4402                  | 0.0623                  | 0.4975                  | 0.2955                  | 0.0682                  | 0.6364                  | \n",
       "| 45559                   |   0                     |  267                    | 38.05805                |  -9.418672              | Ruvuma / Southern Coast | 250                     |                         | VWC                     | TRUE                    | ...                     | 0.9394                  | 0.3489                  | 0.0630                  | 0.5880                  | 0.2532                  | 0.0195                  | 0.7273                  | 0.2000                  | 0.0000                  | 0.8000                  | \n",
       "| 49871                   | 500                     | 1260                    | 35.00612                | -10.950412              | Ruvuma / Southern Coast |  60                     |                         | Water Board             | TRUE                    | ...                     | 0.1250                  | 0.5606                  | 0.0621                  | 0.3773                  | 0.5267                  | 0.0760                  | 0.3973                  | 0.7736                  | 0.0189                  | 0.2075                  | \n",
       "| 52449                   |   0                     | 1685                    | 36.68528                |  -3.302420              | Pangani                 | 200                     | TRUE                    | VWC                     | TRUE                    | ...                     | 0.4166                  | 0.6541                  | 0.0575                  | 0.2884                  | 0.6989                  | 0.0383                  | 0.2628                  | 0.8372                  | 0.0116                  | 0.1512                  | \n",
       "\n",
       "\n"
      ],
      "text/plain": [
       "  id    amount_tsh gps_height longitude latitude   basin                  \n",
       "1 50785   0        1996       35.29080   -4.059696 Internal               \n",
       "2 51630   0        1569       36.65671   -3.309214 Pangani                \n",
       "3 17168   0        1567       34.76786   -5.004344 Internal               \n",
       "4 45559   0         267       38.05805   -9.418672 Ruvuma / Southern Coast\n",
       "5 49871 500        1260       35.00612  -10.950412 Ruvuma / Southern Coast\n",
       "6 52449   0        1685       36.68528   -3.302420 Pangani                \n",
       "  population public_meeting scheme_management permit ...\n",
       "1 321        TRUE           Parastatal        TRUE   ...\n",
       "2 300        TRUE           VWC               TRUE   ...\n",
       "3 500        TRUE           VWC                      ...\n",
       "4 250                       VWC               TRUE   ...\n",
       "5  60                       Water Board       TRUE   ...\n",
       "6 200        TRUE           VWC               TRUE   ...\n",
       "  funder_installer_nonfunctional region_code_functional region_code_needsrepair\n",
       "1 0.1027                         0.6235                 0.0606                 \n",
       "2 0.4166                         0.6541                 0.0575                 \n",
       "3 0.3342                         0.4830                 0.0612                 \n",
       "4 0.9394                         0.3489                 0.0630                 \n",
       "5 0.1250                         0.5606                 0.0621                 \n",
       "6 0.4166                         0.6541                 0.0575                 \n",
       "  region_code_nonfunctional lga_functional lga_needsrepair lga_nonfunctional\n",
       "1 0.3159                    0.6431         0.0337          0.3232           \n",
       "2 0.2884                    0.6989         0.0383          0.2628           \n",
       "3 0.4558                    0.4402         0.0623          0.4975           \n",
       "4 0.5880                    0.2532         0.0195          0.7273           \n",
       "5 0.3773                    0.5267         0.0760          0.3973           \n",
       "6 0.2884                    0.6989         0.0383          0.2628           \n",
       "  ward_functional ward_needsrepair ward_nonfunctional\n",
       "1 0.6000          0.1600           0.2400            \n",
       "2 0.5696          0.0886           0.3418            \n",
       "3 0.2955          0.0682           0.6364            \n",
       "4 0.2000          0.0000           0.8000            \n",
       "5 0.7736          0.0189           0.2075            \n",
       "6 0.8372          0.0116           0.1512            "
      ]
     },
     "metadata": {},
     "output_type": "display_data"
    }
   ],
   "source": [
    "head(challenge_test)"
   ]
  },
  {
   "cell_type": "markdown",
   "metadata": {},
   "source": [
    "**Partition original_train into training and test sets, using an 80/20 split.**\n",
    "\n",
    "Making predictions on the challenge_test set is the end-goal, but as only three submissions per day can be scored, we need a preliminary test set that we use to measure results.\n",
    "\n",
    "We'll call this preliminary test set \"test\", while the final challenge test set is \"challenge_test\"."
   ]
  },
  {
   "cell_type": "code",
   "execution_count": 5,
   "metadata": {
    "collapsed": true
   },
   "outputs": [],
   "source": [
    "set.seed(2017)\n",
    "trainindices<-sample(1:nrow(full_train),.8*nrow(full_train))\n",
    "\n",
    "train = full_train[trainindices,] # partition to get train set\n",
    "test = full_train[-trainindices,] # partition to get test set\n",
    "test_Y = test$status_group # separate test set target variable\n",
    "test = subset(test, select = -c(status_group)) # remove target variable from test set"
   ]
  },
  {
   "cell_type": "code",
   "execution_count": 6,
   "metadata": {},
   "outputs": [
    {
     "data": {
      "text/html": [
       "<ol class=list-inline>\n",
       "\t<li>8000</li>\n",
       "\t<li>38</li>\n",
       "</ol>\n"
      ],
      "text/latex": [
       "\\begin{enumerate*}\n",
       "\\item 8000\n",
       "\\item 38\n",
       "\\end{enumerate*}\n"
      ],
      "text/markdown": [
       "1. 8000\n",
       "2. 38\n",
       "\n",
       "\n"
      ],
      "text/plain": [
       "[1] 8000   38"
      ]
     },
     "metadata": {},
     "output_type": "display_data"
    }
   ],
   "source": [
    "dim(train)"
   ]
  },
  {
   "cell_type": "code",
   "execution_count": 7,
   "metadata": {},
   "outputs": [
    {
     "data": {
      "text/html": [
       "<ol class=list-inline>\n",
       "\t<li>2000</li>\n",
       "\t<li>37</li>\n",
       "</ol>\n"
      ],
      "text/latex": [
       "\\begin{enumerate*}\n",
       "\\item 2000\n",
       "\\item 37\n",
       "\\end{enumerate*}\n"
      ],
      "text/markdown": [
       "1. 2000\n",
       "2. 37\n",
       "\n",
       "\n"
      ],
      "text/plain": [
       "[1] 2000   37"
      ]
     },
     "metadata": {},
     "output_type": "display_data"
    }
   ],
   "source": [
    "dim(test)"
   ]
  },
  {
   "cell_type": "code",
   "execution_count": 8,
   "metadata": {},
   "outputs": [
    {
     "data": {
      "text/html": [
       "2000"
      ],
      "text/latex": [
       "2000"
      ],
      "text/markdown": [
       "2000"
      ],
      "text/plain": [
       "[1] 2000"
      ]
     },
     "metadata": {},
     "output_type": "display_data"
    }
   ],
   "source": [
    "length(test_Y)"
   ]
  },
  {
   "cell_type": "markdown",
   "metadata": {},
   "source": [
    "## Best Random Forest Model\n",
    "\n",
    "Explanatory text"
   ]
  },
  {
   "cell_type": "code",
   "execution_count": 9,
   "metadata": {
    "collapsed": true
   },
   "outputs": [],
   "source": [
    "# Create random forest model\n",
    "rf = randomForest(status_group~., data=train, mtry= 8 , ntree = 1000, importance =TRUE)"
   ]
  },
  {
   "cell_type": "code",
   "execution_count": 10,
   "metadata": {},
   "outputs": [
    {
     "data": {
      "text/html": [
       "0.276649426012363"
      ],
      "text/latex": [
       "0.276649426012363"
      ],
      "text/markdown": [
       "0.276649426012363"
      ],
      "text/plain": [
       "[1] 0.2766494"
      ]
     },
     "metadata": {},
     "output_type": "display_data"
    }
   ],
   "source": [
    "#save OOB error rate\n",
    "rf.OOB.error <- tail(rf$err.rate[,1],1)\n",
    "rf.OOB.error"
   ]
  },
  {
   "cell_type": "code",
   "execution_count": 11,
   "metadata": {
    "collapsed": true
   },
   "outputs": [],
   "source": [
    "#predict on the preliminary test set\n",
    "rf.preds=predict(rf,newdata=test, type=\"response\")\n"
   ]
  },
  {
   "cell_type": "code",
   "execution_count": 12,
   "metadata": {},
   "outputs": [
    {
     "data": {
      "text/plain": [
       "                         Predicted\n",
       "Actual                    functional functional needs repair non functional\n",
       "  functional                     895                      50            172\n",
       "  functional needs repair         60                      38             32\n",
       "  non functional                 151                      15            587"
      ]
     },
     "metadata": {},
     "output_type": "display_data"
    }
   ],
   "source": [
    "#create confusion matrix\n",
    "confusion = table(test_Y, rf.preds, dnn=c(\"Actual\",\"Predicted\"))\n",
    "confusion"
   ]
  },
  {
   "cell_type": "markdown",
   "metadata": {},
   "source": [
    "**Random Forest Results**"
   ]
  },
  {
   "cell_type": "code",
   "execution_count": 27,
   "metadata": {},
   "outputs": [
    {
     "data": {
      "text/html": [
       "<dl class=dl-horizontal>\n",
       "\t<dt>Error Rate</dt>\n",
       "\t\t<dd>0.2115</dd>\n",
       "\t<dt>Accuracy</dt>\n",
       "\t\t<dd>0.7885</dd>\n",
       "</dl>\n"
      ],
      "text/latex": [
       "\\begin{description*}\n",
       "\\item[Error Rate] 0.2115\n",
       "\\item[Accuracy] 0.7885\n",
       "\\end{description*}\n"
      ],
      "text/markdown": [
       "Error Rate\n",
       ":   0.2115Accuracy\n",
       ":   0.7885\n",
       "\n"
      ],
      "text/plain": [
       "Error Rate   Accuracy \n",
       "    0.2115     0.7885 "
      ]
     },
     "metadata": {},
     "output_type": "display_data"
    }
   ],
   "source": [
    "#caclulate error rate and accuracy\n",
    "rf.error<-(sum(confusion[1,2:3],confusion[2,1],confusion[2,3],confusion[3,1:2])/sum(confusion))\n",
    "rf.accuracy = 1 - rf.error\n",
    "\n",
    "rf.results = c(rf.error, rf.accuracy)\n",
    "names(rf.results) =  c('Error Rate','Accuracy')\n",
    "rf.results"
   ]
  },
  {
   "cell_type": "markdown",
   "metadata": {},
   "source": [
    "** Predict on challenge test set**"
   ]
  },
  {
   "cell_type": "code",
   "execution_count": 14,
   "metadata": {
    "collapsed": true
   },
   "outputs": [],
   "source": [
    "rf.challenge=predict(rf,newdata=challenge_test, type=\"response\")"
   ]
  },
  {
   "cell_type": "markdown",
   "metadata": {},
   "source": [
    "**Write to CSV file for submission**"
   ]
  },
  {
   "cell_type": "code",
   "execution_count": 15,
   "metadata": {},
   "outputs": [
    {
     "data": {
      "text/html": [
       "<table>\n",
       "<thead><tr><th scope=col>id</th><th scope=col>status_group</th></tr></thead>\n",
       "<tbody>\n",
       "\t<tr><td>50785         </td><td>functional    </td></tr>\n",
       "\t<tr><td>51630         </td><td>functional    </td></tr>\n",
       "\t<tr><td>17168         </td><td>functional    </td></tr>\n",
       "\t<tr><td>45559         </td><td>non functional</td></tr>\n",
       "\t<tr><td>49871         </td><td>functional    </td></tr>\n",
       "\t<tr><td>52449         </td><td>functional    </td></tr>\n",
       "</tbody>\n",
       "</table>\n"
      ],
      "text/latex": [
       "\\begin{tabular}{r|ll}\n",
       " id & status\\_group\\\\\n",
       "\\hline\n",
       "\t 50785          & functional    \\\\\n",
       "\t 51630          & functional    \\\\\n",
       "\t 17168          & functional    \\\\\n",
       "\t 45559          & non functional\\\\\n",
       "\t 49871          & functional    \\\\\n",
       "\t 52449          & functional    \\\\\n",
       "\\end{tabular}\n"
      ],
      "text/markdown": [
       "\n",
       "id | status_group | \n",
       "|---|---|---|---|---|---|\n",
       "| 50785          | functional     | \n",
       "| 51630          | functional     | \n",
       "| 17168          | functional     | \n",
       "| 45559          | non functional | \n",
       "| 49871          | functional     | \n",
       "| 52449          | functional     | \n",
       "\n",
       "\n"
      ],
      "text/plain": [
       "  id    status_group  \n",
       "1 50785 functional    \n",
       "2 51630 functional    \n",
       "3 17168 functional    \n",
       "4 45559 non functional\n",
       "5 49871 functional    \n",
       "6 52449 functional    "
      ]
     },
     "metadata": {},
     "output_type": "display_data"
    }
   ],
   "source": [
    "rf.challenge_format = cbind.data.frame(challenge_test$id,rf.challenge)\n",
    "colnames(rf.challenge_format) = c('id','status_group')\n",
    "write.csv(rf.challenge_format, file = \"rf_predictions.csv\",row.names=FALSE)\n",
    "\n",
    "head(rf.challenge_format)"
   ]
  },
  {
   "cell_type": "code",
   "execution_count": 16,
   "metadata": {
    "collapsed": true
   },
   "outputs": [],
   "source": [
    "# Use matplotlib image display to show image of results"
   ]
  },
  {
   "cell_type": "markdown",
   "metadata": {
    "collapsed": true
   },
   "source": [
    "**Score given by challenge website**"
   ]
  },
  {
   "cell_type": "code",
   "execution_count": 17,
   "metadata": {},
   "outputs": [
    {
     "data": {
      "image/png": "[encoded data removed]"
     },
     "metadata": {},
     "output_type": "display_data"
    }
   ],
   "source": [
    "display_png(file='rf_pic.png')"
   ]
  },
  {
   "cell_type": "markdown",
   "metadata": {},
   "source": [
    "## Best Gradient Boosting Model\n",
    "\n",
    "Explanatory text"
   ]
  },
  {
   "cell_type": "code",
   "execution_count": 9,
   "metadata": {
    "scrolled": true
   },
   "outputs": [
    {
     "name": "stdout",
     "output_type": "stream",
     "text": [
      "Distribution not specified, assuming multinomial ...\n"
     ]
    }
   ],
   "source": [
    "# Create gradient boosting model\n",
    "boost=gbm(status_group~.,data=train,n.trees=1000,interaction.depth=16, n.minobsinnode=10, bag.fraction = .3, cv.folds = 5, shrinkage = .001) , verbose = FALSE)"
   ]
  },
  {
   "cell_type": "code",
   "execution_count": 12,
   "metadata": {
    "collapsed": true
   },
   "outputs": [],
   "source": [
    "# Predict on preliminary test set\n",
    "boost.predsNumeric =predict(boost,newdata=test,n.trees=1000, type=\"response\")\n",
    "boost.preds= colnames(boost.predsNumeric)[apply(boost.predsNumeric,1,which.max)]"
   ]
  },
  {
   "cell_type": "code",
   "execution_count": 13,
   "metadata": {},
   "outputs": [
    {
     "data": {
      "text/plain": [
       "                         Predicted\n",
       "Actual                    functional functional needs repair non functional\n",
       "  functional                     954                      25            138\n",
       "  functional needs repair         71                      26             33\n",
       "  non functional                 213                       9            531"
      ]
     },
     "metadata": {},
     "output_type": "display_data"
    }
   ],
   "source": [
    "# Create confusion matrix\n",
    "confusion = table(test_Y, boost.preds, dnn=c(\"Actual\",\"Predicted\"))\n",
    "confusion"
   ]
  },
  {
   "cell_type": "markdown",
   "metadata": {},
   "source": [
    "**Gradient Boosting Model Results**"
   ]
  },
  {
   "cell_type": "code",
   "execution_count": 14,
   "metadata": {},
   "outputs": [
    {
     "data": {
      "text/html": [
       "<dl class=dl-horizontal>\n",
       "\t<dt>Error Rate</dt>\n",
       "\t\t<dd>0.2445</dd>\n",
       "\t<dt>Accuracy</dt>\n",
       "\t\t<dd>0.7555</dd>\n",
       "</dl>\n"
      ],
      "text/latex": [
       "\\begin{description*}\n",
       "\\item[Error Rate] 0.2445\n",
       "\\item[Accuracy] 0.7555\n",
       "\\end{description*}\n"
      ],
      "text/markdown": [
       "Error Rate\n",
       ":   0.2445Accuracy\n",
       ":   0.7555\n",
       "\n"
      ],
      "text/plain": [
       "Error Rate   Accuracy \n",
       "    0.2445     0.7555 "
      ]
     },
     "metadata": {},
     "output_type": "display_data"
    }
   ],
   "source": [
    "# Caclulate error rate and accuracy\n",
    "boost.error<-(sum(confusion[1,2:3],confusion[2,1],confusion[2,3],confusion[3,1:2])/sum(confusion))\n",
    "boost.accuracy = 1 - boost.error\n",
    "\n",
    "boost.results = c(boost.error, boost.accuracy)\n",
    "names(boost.results) = c('Error Rate','Accuracy')\n",
    "boost.results"
   ]
  },
  {
   "cell_type": "markdown",
   "metadata": {},
   "source": [
    "** Predict on challenge test set**"
   ]
  },
  {
   "cell_type": "code",
   "execution_count": 16,
   "metadata": {
    "collapsed": true
   },
   "outputs": [],
   "source": [
    "boost.challengeNumeric = predict(boost, newdata=challenge_test,n.trees=1000, type=\"response\")\n",
    "boost.challenge = colnames(boost.challengeNumeric)[apply(boost.challengeNumeric,1,which.max)]"
   ]
  },
  {
   "cell_type": "markdown",
   "metadata": {},
   "source": [
    "**Write to CSV file for submission**"
   ]
  },
  {
   "cell_type": "code",
   "execution_count": 17,
   "metadata": {},
   "outputs": [
    {
     "data": {
      "text/html": [
       "<table>\n",
       "<thead><tr><th scope=col>id</th><th scope=col>status_group</th></tr></thead>\n",
       "<tbody>\n",
       "\t<tr><td>50785         </td><td>functional    </td></tr>\n",
       "\t<tr><td>51630         </td><td>functional    </td></tr>\n",
       "\t<tr><td>17168         </td><td>non functional</td></tr>\n",
       "\t<tr><td>45559         </td><td>non functional</td></tr>\n",
       "\t<tr><td>49871         </td><td>functional    </td></tr>\n",
       "\t<tr><td>52449         </td><td>functional    </td></tr>\n",
       "</tbody>\n",
       "</table>\n"
      ],
      "text/latex": [
       "\\begin{tabular}{r|ll}\n",
       " id & status\\_group\\\\\n",
       "\\hline\n",
       "\t 50785          & functional    \\\\\n",
       "\t 51630          & functional    \\\\\n",
       "\t 17168          & non functional\\\\\n",
       "\t 45559          & non functional\\\\\n",
       "\t 49871          & functional    \\\\\n",
       "\t 52449          & functional    \\\\\n",
       "\\end{tabular}\n"
      ],
      "text/markdown": [
       "\n",
       "id | status_group | \n",
       "|---|---|---|---|---|---|\n",
       "| 50785          | functional     | \n",
       "| 51630          | functional     | \n",
       "| 17168          | non functional | \n",
       "| 45559          | non functional | \n",
       "| 49871          | functional     | \n",
       "| 52449          | functional     | \n",
       "\n",
       "\n"
      ],
      "text/plain": [
       "  id    status_group  \n",
       "1 50785 functional    \n",
       "2 51630 functional    \n",
       "3 17168 non functional\n",
       "4 45559 non functional\n",
       "5 49871 functional    \n",
       "6 52449 functional    "
      ]
     },
     "metadata": {},
     "output_type": "display_data"
    }
   ],
   "source": [
    "boost.challenge_format = cbind.data.frame(challenge_test$id,boost.challenge)\n",
    "colnames(boost.challenge_format) = c('id','status_group')\n",
    "write.csv(boost.challenge_format, file = \"boost_predictions.csv\",row.names=FALSE)\n",
    "\n",
    "head(boost.challenge_format)"
   ]
  },
  {
   "cell_type": "markdown",
   "metadata": {
    "collapsed": true
   },
   "source": [
    "**Score given by challenge website**"
   ]
  },
  {
   "cell_type": "code",
   "execution_count": 18,
   "metadata": {},
   "outputs": [
    {
     "data": {
      "image/png": "[encoded data removed]"
     },
     "metadata": {},
     "output_type": "display_data"
    }
   ],
   "source": [
    "display_png(file='boost_pic.png')"
   ]
  },
  {
   "cell_type": "markdown",
   "metadata": {},
   "source": [
    "## Best Support Vector Machine Model\n",
    "\n",
    "Explanatory text"
   ]
  },
  {
   "cell_type": "code",
   "execution_count": 19,
   "metadata": {
    "collapsed": true
   },
   "outputs": [],
   "source": [
    "# Create SVM model\n",
    "svm.radial = svm(status_group~., data=train, kernel='radial', cost=8)"
   ]
  },
  {
   "cell_type": "markdown",
   "metadata": {},
   "source": [
    "**Support Vector Machine Results**"
   ]
  },
  {
   "cell_type": "code",
   "execution_count": 20,
   "metadata": {
    "collapsed": true
   },
   "outputs": [],
   "source": [
    "# Predict on preliminary test set\n",
    "svm.preds = predict(svm.radial, newdata=test)"
   ]
  },
  {
   "cell_type": "code",
   "execution_count": 21,
   "metadata": {},
   "outputs": [
    {
     "data": {
      "text/plain": [
       "                         pred\n",
       "obs                       functional functional needs repair non functional\n",
       "  functional                    1003                      26             88\n",
       "  functional needs repair         83                      31             16\n",
       "  non functional                 197                      13            543"
      ]
     },
     "metadata": {},
     "output_type": "display_data"
    }
   ],
   "source": [
    "# Create confusion matrix\n",
    "confusion <- table(obs=test_Y, pred=svm.preds)\n",
    "confusion"
   ]
  },
  {
   "cell_type": "code",
   "execution_count": 22,
   "metadata": {},
   "outputs": [
    {
     "data": {
      "text/html": [
       "<dl class=dl-horizontal>\n",
       "\t<dt>Error Rate</dt>\n",
       "\t\t<dd>0.2115</dd>\n",
       "\t<dt>Accuracy</dt>\n",
       "\t\t<dd>0.7885</dd>\n",
       "</dl>\n"
      ],
      "text/latex": [
       "\\begin{description*}\n",
       "\\item[Error Rate] 0.2115\n",
       "\\item[Accuracy] 0.7885\n",
       "\\end{description*}\n"
      ],
      "text/markdown": [
       "Error Rate\n",
       ":   0.2115Accuracy\n",
       ":   0.7885\n",
       "\n"
      ],
      "text/plain": [
       "Error Rate   Accuracy \n",
       "    0.2115     0.7885 "
      ]
     },
     "metadata": {},
     "output_type": "display_data"
    }
   ],
   "source": [
    "#caclulate error rate and accuracy\n",
    "svm.error<-(sum(confusion[1,2:3],confusion[2,1],confusion[2,3],confusion[3,1:2])/sum(confusion))\n",
    "svm.accuracy = 1 - svm.error\n",
    "\n",
    "svm.results = c(svm.error, svm.accuracy)\n",
    "names(svm.results) =  c('Error Rate','Accuracy')\n",
    "svm.results"
   ]
  },
  {
   "cell_type": "markdown",
   "metadata": {},
   "source": [
    "** Predict on challenge test set**"
   ]
  },
  {
   "cell_type": "code",
   "execution_count": 23,
   "metadata": {
    "collapsed": true
   },
   "outputs": [],
   "source": [
    "svm.challenge = predict(svm.radial, newdata=challenge_test)"
   ]
  },
  {
   "cell_type": "markdown",
   "metadata": {},
   "source": [
    "**Write to CSV file for submission**"
   ]
  },
  {
   "cell_type": "code",
   "execution_count": 24,
   "metadata": {},
   "outputs": [
    {
     "data": {
      "text/html": [
       "<table>\n",
       "<thead><tr><th scope=col>id</th><th scope=col>status_group</th></tr></thead>\n",
       "<tbody>\n",
       "\t<tr><td>50785         </td><td>functional    </td></tr>\n",
       "\t<tr><td>51630         </td><td>functional    </td></tr>\n",
       "\t<tr><td>17168         </td><td>functional    </td></tr>\n",
       "\t<tr><td>45559         </td><td>non functional</td></tr>\n",
       "\t<tr><td>49871         </td><td>functional    </td></tr>\n",
       "\t<tr><td>52449         </td><td>functional    </td></tr>\n",
       "</tbody>\n",
       "</table>\n"
      ],
      "text/latex": [
       "\\begin{tabular}{r|ll}\n",
       " id & status\\_group\\\\\n",
       "\\hline\n",
       "\t 50785          & functional    \\\\\n",
       "\t 51630          & functional    \\\\\n",
       "\t 17168          & functional    \\\\\n",
       "\t 45559          & non functional\\\\\n",
       "\t 49871          & functional    \\\\\n",
       "\t 52449          & functional    \\\\\n",
       "\\end{tabular}\n"
      ],
      "text/markdown": [
       "\n",
       "id | status_group | \n",
       "|---|---|---|---|---|---|\n",
       "| 50785          | functional     | \n",
       "| 51630          | functional     | \n",
       "| 17168          | functional     | \n",
       "| 45559          | non functional | \n",
       "| 49871          | functional     | \n",
       "| 52449          | functional     | \n",
       "\n",
       "\n"
      ],
      "text/plain": [
       "  id    status_group  \n",
       "1 50785 functional    \n",
       "2 51630 functional    \n",
       "3 17168 functional    \n",
       "4 45559 non functional\n",
       "5 49871 functional    \n",
       "6 52449 functional    "
      ]
     },
     "metadata": {},
     "output_type": "display_data"
    }
   ],
   "source": [
    "svm.challenge_format = cbind.data.frame(challenge_test$id,svm.challenge)\n",
    "colnames(svm.challenge_format) = c('id','status_group')\n",
    "write.csv(svm.challenge_format, file = \"svm_predictions.csv\",row.names=FALSE)\n",
    "\n",
    "head(svm.challenge_format)"
   ]
  },
  {
   "cell_type": "markdown",
   "metadata": {
    "collapsed": true
   },
   "source": [
    "**Score given by challenge website**"
   ]
  },
  {
   "cell_type": "code",
   "execution_count": 25,
   "metadata": {},
   "outputs": [
    {
     "data": {
      "image/png": "[encoded data removed]"
     },
     "metadata": {},
     "output_type": "display_data"
    }
   ],
   "source": [
    "display_png(file='svm_pic.png')"
   ]
  },
  {
   "cell_type": "markdown",
   "metadata": {},
   "source": [
    "## Model Comparison\n",
    "\n",
    "Explanatory text"
   ]
  },
  {
   "cell_type": "code",
   "execution_count": 28,
   "metadata": {},
   "outputs": [
    {
     "data": {
      "text/html": [
       "<table>\n",
       "<thead><tr><th></th><th scope=col>rf.results</th><th scope=col>boost.results</th><th scope=col>svm.results</th></tr></thead>\n",
       "<tbody>\n",
       "\t<tr><th scope=row>Error Rate</th><td>0.2115</td><td>0.2445</td><td>0.2115</td></tr>\n",
       "\t<tr><th scope=row>Accuracy</th><td>0.7885</td><td>0.7555</td><td>0.7885</td></tr>\n",
       "\t<tr><th scope=row>Challenge Set Accuracy</th><td>0.7620</td><td>0.7578</td><td>0.7487</td></tr>\n",
       "</tbody>\n",
       "</table>\n"
      ],
      "text/latex": [
       "\\begin{tabular}{r|lll}\n",
       "  & rf.results & boost.results & svm.results\\\\\n",
       "\\hline\n",
       "\tError Rate & 0.2115 & 0.2445 & 0.2115\\\\\n",
       "\tAccuracy & 0.7885 & 0.7555 & 0.7885\\\\\n",
       "\tChallenge Set Accuracy & 0.7620 & 0.7578 & 0.7487\\\\\n",
       "\\end{tabular}\n"
      ],
      "text/markdown": [
       "\n",
       "| <!--/--> | rf.results | boost.results | svm.results | \n",
       "|---|---|---|\n",
       "| Error Rate | 0.2115 | 0.2445 | 0.2115 | \n",
       "| Accuracy | 0.7885 | 0.7555 | 0.7885 | \n",
       "| Challenge Set Accuracy | 0.7620 | 0.7578 | 0.7487 | \n",
       "\n",
       "\n"
      ],
      "text/plain": [
       "                       rf.results boost.results svm.results\n",
       "Error Rate             0.2115     0.2445        0.2115     \n",
       "Accuracy               0.7885     0.7555        0.7885     \n",
       "Challenge Set Accuracy 0.7620     0.7578        0.7487     "
      ]
     },
     "metadata": {},
     "output_type": "display_data"
    }
   ],
   "source": [
    "challenge_results = c(0.7620,0.7578,0.7487)\n",
    "names(challenge_results) = c('Random Forest', 'Gradient Boost', 'Support Vector Machine')\n",
    "results = cbind.data.frame(rf.results,boost.results,svm.results)\n",
    "results = rbind(results, challenge_results)\n",
    "rownames(results)[3] = 'Challenge Set Accuracy'\n",
    "results\n",
    "\n"
   ]
  }
 ],
 "metadata": {
  "kernelspec": {
   "display_name": "R",
   "language": "R",
   "name": "ir"
  },
  "language_info": {
   "codemirror_mode": "r",
   "file_extension": ".r",
   "mimetype": "text/x-r-source",
   "name": "R",
   "pygments_lexer": "r",
   "version": "3.3.2"
  }
 },
 "nbformat": 4,
 "nbformat_minor": 1
}
